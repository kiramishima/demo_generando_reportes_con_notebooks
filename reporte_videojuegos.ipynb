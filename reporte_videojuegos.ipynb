{
 "cells": [
  {
   "cell_type": "code",
   "execution_count": null,
   "id": "3fe27dfd",
   "metadata": {
    "tags": [
     "parameters"
    ]
   },
   "outputs": [],
   "source": [
    "sql_schema = 'postgresql:\\\\\\gamerstop'"
   ]
  },
  {
   "cell_type": "markdown",
   "id": "0b17647c",
   "metadata": {},
   "source": [
    "# **Reporte de videojuegos**"
   ]
  },
  {
   "cell_type": "code",
   "execution_count": null,
   "id": "a861399f",
   "metadata": {},
   "outputs": [],
   "source": [
    "# Importamos las librerias a utilizar\n",
    "from sqlalchemy import create_engine, inspect, MetaData, Table\n",
    "import pandas as pd\n",
    "import matplotlib.pyplot as plt\n",
    "import seaborn as sns\n",
    "\n",
    "# Creamos la conexion\n",
    "engine = create_engine(sql_schema)\n",
    "inspector = inspect(engine)\n",
    "# print(inspector.get_table_names())"
   ]
  },
  {
   "cell_type": "code",
   "execution_count": null,
   "id": "18288639",
   "metadata": {},
   "outputs": [],
   "source": [
    "connection = engine.connect()\n",
    "\n",
    "# Seleccionamos los juegos que no tienen review\n",
    "stmt = \"\"\"\n",
    "SELECT COUNT(a.game)\n",
    "FROM game_sales as a\n",
    "LEFT JOIN reviews as b on a.game = b.game\n",
    "WHERE critic_score IS NULL and user_score is null\n",
    "\"\"\"\n",
    "\n",
    "results = connection.execute(stmt)\n",
    "total = results.fetchall()[0][0]\n",
    "\n",
    "print(\"El total de juegos sin critica y sin calificación por los usuarios es {0}\".format(total))"
   ]
  },
  {
   "cell_type": "markdown",
   "id": "f5fb6c46",
   "metadata": {},
   "source": [
    "# Ventas de los videojuegos"
   ]
  },
  {
   "cell_type": "code",
   "execution_count": null,
   "id": "0c0dac85",
   "metadata": {},
   "outputs": [],
   "source": [
    "stmt = \"\"\"\n",
    "SELECT a.year, SUM(a.games_sold) as total_games_sold\n",
    "FROM game_sales as a\n",
    "WHERE a.year in (SELECT year FROM top_critic_years_more_than_four_games\n",
    "INTERSECT\n",
    "SELECT year FROM top_user_years_more_than_four_games)\n",
    "GROUP BY a.year\n",
    "ORDER BY total_games_sold desc\n",
    "\"\"\"\n",
    "\n",
    "results = connection.execute(stmt)\n",
    "df1 = pd.DataFrame(results.fetchall())\n",
    "df1.columns = results.keys()\n",
    "\n",
    "_, ax =plt.subplots(1,2)\n",
    "\n",
    "# Grafica 1\n",
    "sns.set_style(\"whitegrid\")\n",
    "g = sns.barplot(x='year', y='total_games_sold', data=df1, ax=ax[0])\n",
    "g.set_title(\"Ventas x Año\")\n",
    "g.set(xlabel=\"Años\", \n",
    "      ylabel=\"Total Ventas\")\n",
    "\n",
    "# Grafica 2\n",
    "ax[1].pie(df1['total_games_sold'], labels=df1['year'],autopct='%1.1f%%')\n",
    "\n",
    "plt.show()"
   ]
  }
 ],
 "metadata": {
  "jupytext": {
   "cell_metadata_filter": "tags,-all",
   "formats": "ipynb,md"
  },
  "kernelspec": {
   "display_name": "Python 3 (ipykernel)",
   "language": "python",
   "name": "python3"
  }
 },
 "nbformat": 4,
 "nbformat_minor": 5
}
